{
 "cells": [
  {
   "cell_type": "markdown",
   "id": "fab5424b",
   "metadata": {},
   "source": [
    "## git\n",
    "version control software"
   ]
  },
  {
   "cell_type": "markdown",
   "id": "3d541a2b",
   "metadata": {},
   "source": [
    "## history\n",
    "- Linus Torvalds\n",
    "- Linux"
   ]
  },
  {
   "cell_type": "markdown",
   "id": "2bc8d9c1",
   "metadata": {},
   "source": [
    "## features\n",
    "- offline"
   ]
  },
  {
   "cell_type": "markdown",
   "id": "a9269ed5",
   "metadata": {},
   "source": [
    "## features\n",
    "- distributed\n"
   ]
  },
  {
   "cell_type": "code",
   "execution_count": null,
   "id": "8da8a3e2",
   "metadata": {},
   "outputs": [],
   "source": []
  }
 ],
 "metadata": {
  "kernelspec": {
   "display_name": "Python 3 (ipykernel)",
   "language": "python",
   "name": "python3"
  },
  "language_info": {
   "codemirror_mode": {
    "name": "ipython",
    "version": 3
   },
   "file_extension": ".py",
   "mimetype": "text/x-python",
   "name": "python",
   "nbconvert_exporter": "python",
   "pygments_lexer": "ipython3",
   "version": "3.11.5"
  }
 },
 "nbformat": 4,
 "nbformat_minor": 5
}
