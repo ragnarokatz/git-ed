{
 "cells": [
  {
   "cell_type": "markdown",
   "id": "b61fe02e",
   "metadata": {
    "slideshow": {
     "slide_type": "slide"
    }
   },
   "source": [
    "## intro to git\n",
    "version control software"
   ]
  },
  {
   "cell_type": "markdown",
   "id": "a11c228b",
   "metadata": {
    "slideshow": {
     "slide_type": "slide"
    }
   },
   "source": [
    "## format\n",
    "- 12 sessions \n",
    "- 15 to 20 minutes long\n",
    "- half theory, half demo"
   ]
  },
  {
   "cell_type": "markdown",
   "id": "b176cbd2",
   "metadata": {
    "slideshow": {
     "slide_type": "slide"
    }
   },
   "source": [
    "## for who?\n",
    "- devs\n",
    "- code"
   ]
  },
  {
   "cell_type": "markdown",
   "id": "3d541a2b",
   "metadata": {
    "slideshow": {
     "slide_type": "slide"
    }
   },
   "source": [
    "## how to get the software\n",
    "- git official\n",
    "- software center\n",
    "- sourcetree"
   ]
  },
  {
   "cell_type": "markdown",
   "id": "9f5ec043",
   "metadata": {
    "slideshow": {
     "slide_type": "slide"
    }
   },
   "source": [
    "## history\n",
    "- Linus Torvalds\n",
    "- Linux"
   ]
  },
  {
   "cell_type": "markdown",
   "id": "2bc8d9c1",
   "metadata": {
    "slideshow": {
     "slide_type": "slide"
    }
   },
   "source": [
    "## features\n",
    "- distributed\n",
    "- scale\n",
    "- fast\n",
    "- free"
   ]
  },
  {
   "cell_type": "markdown",
   "id": "1846d525",
   "metadata": {
    "slideshow": {
     "slide_type": "slide"
    }
   },
   "source": [
    "## git at its core\n",
    "- tree of commits in sequence"
   ]
  },
  {
   "cell_type": "markdown",
   "id": "a9269ed5",
   "metadata": {
    "slideshow": {
     "slide_type": "slide"
    }
   },
   "source": [
    "## nature of git\n",
    "- offline\n",
    "- distributed\n"
   ]
  },
  {
   "cell_type": "markdown",
   "id": "45d13202",
   "metadata": {
    "slideshow": {
     "slide_type": "slide"
    }
   },
   "source": [
    "## recap\n",
    "- who is it for?\n",
    "- where to get it?\n",
    "- history\n",
    "- features\n",
    "- what is it?"
   ]
  }
 ],
 "metadata": {
  "celltoolbar": "Slideshow",
  "kernelspec": {
   "display_name": "Python 3 (ipykernel)",
   "language": "python",
   "name": "python3"
  },
  "language_info": {
   "codemirror_mode": {
    "name": "ipython",
    "version": 3
   },
   "file_extension": ".py",
   "mimetype": "text/x-python",
   "name": "python",
   "nbconvert_exporter": "python",
   "pygments_lexer": "ipython3",
   "version": "3.11.5"
  }
 },
 "nbformat": 4,
 "nbformat_minor": 5
}
