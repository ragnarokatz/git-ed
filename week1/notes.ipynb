{
 "cells": [
  {
   "cell_type": "markdown",
   "id": "b61fe02e",
   "metadata": {
    "slideshow": {
     "slide_type": "slide"
    }
   },
   "source": [
    "## git\n",
    "version control software"
   ]
  },
  {
   "cell_type": "markdown",
   "id": "3d541a2b",
   "metadata": {
    "slideshow": {
     "slide_type": "slide"
    }
   },
   "source": [
    "## history\n",
    "- Linus Torvalds\n",
    "- Linux"
   ]
  },
  {
   "cell_type": "markdown",
   "id": "2bc8d9c1",
   "metadata": {
    "slideshow": {
     "slide_type": "slide"
    }
   },
   "source": [
    "## features\n",
    "- offline"
   ]
  },
  {
   "cell_type": "markdown",
   "id": "a9269ed5",
   "metadata": {
    "slideshow": {
     "slide_type": "slide"
    }
   },
   "source": [
    "## features\n",
    "- distributed\n"
   ]
  }
 ],
 "metadata": {
  "celltoolbar": "Slideshow",
  "kernelspec": {
   "display_name": "Python 3 (ipykernel)",
   "language": "python",
   "name": "python3"
  },
  "language_info": {
   "codemirror_mode": {
    "name": "ipython",
    "version": 3
   },
   "file_extension": ".py",
   "mimetype": "text/x-python",
   "name": "python",
   "nbconvert_exporter": "python",
   "pygments_lexer": "ipython3",
   "version": "3.11.5"
  }
 },
 "nbformat": 4,
 "nbformat_minor": 5
}
